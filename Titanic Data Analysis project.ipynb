{
 "cells": [
  {
   "cell_type": "code",
   "execution_count": 2,
   "metadata": {},
   "outputs": [],
   "source": [
    "import unicodecsv\n",
    "\n",
    "#Open the file for reading mode\n",
    "with open('titanic_data.csv','rb') as f:\n",
    "    reader = unicodecsv.DictReader(f)\n",
    "    passengers = list(reader)\n",
    "\n",
    "#import pandas\n",
    "import pandas as pd\n",
    "passengers = pd.read_csv(\"titanic_data.csv\")\n",
    "\n",
    "#import seaborn\n",
    "import seaborn as sns\n",
    "\n",
    "# deleting the columns not neccessary for the analysis\n",
    "passengers = passengers.drop(['Ticket'],axis=1)\n"
   ]
  },
  {
   "cell_type": "code",
   "execution_count": null,
   "metadata": {},
   "outputs": [],
   "source": []
  },
  {
   "cell_type": "code",
   "execution_count": 3,
   "metadata": {},
   "outputs": [
    {
     "name": "stdout",
     "output_type": "stream",
     "text": [
      "Total number of passengers:  891\n"
     ]
    }
   ],
   "source": [
    "#calculate and print the number passengers of who were on the titanic\n",
    "print('Total number of passengers: ',len(passengers['PassengerId'].unique()))"
   ]
  },
  {
   "cell_type": "code",
   "execution_count": 4,
   "metadata": {},
   "outputs": [
    {
     "name": "stdout",
     "output_type": "stream",
     "text": [
      "Minimum fare amount paid: 0.0\n",
      "\n",
      "Maximum fare amount paid: 512.3292\n",
      "\n",
      "Average fare amount: 32.2042079685746\n",
      "\n",
      "Standard deviation: 49.693428597180905\n"
     ]
    }
   ],
   "source": [
    "#calculate the maximum and minimum fee prices paid, average of the fares paid and the standard deviation\n",
    "print('Minimum fare amount paid:',passengers['Fare'].min())\n",
    "print('')\n",
    "print('Maximum fare amount paid:',passengers['Fare'].max())\n",
    "print('')\n",
    "print('Average fare amount:',passengers['Fare'].mean())\n",
    "print('')\n",
    "print('Standard deviation:',passengers['Fare'].std())"
   ]
  },
  {
   "cell_type": "code",
   "execution_count": 13,
   "metadata": {},
   "outputs": [
    {
     "data": {
      "text/plain": [
       "Text(0,0.5,'Number of people')"
      ]
     },
     "execution_count": 13,
     "metadata": {},
     "output_type": "execute_result"
    },
    {
     "data": {
      "image/png": "[encoded data removed]",
      "text/plain": [
       "<matplotlib.figure.Figure at 0x1a67f5c1780>"
      ]
     },
     "metadata": {},
     "output_type": "display_data"
    }
   ],
   "source": [
    "#Histogram showing the distribution of fares within the passengers\n",
    "data = passengers['Fare']\n",
    "%matplotlib inline\n",
    "import matplotlib.pyplot as plt\n",
    "plt.hist(data)\n",
    "\n",
    "plt.title(\"distribution of fares prices\")\n",
    "plt.xlabel(\"Fare prices\")\n",
    "plt.ylabel(\"Number of people\")"
   ]
  },
  {
   "cell_type": "code",
   "execution_count": 36,
   "metadata": {},
   "outputs": [
    {
     "name": "stdout",
     "output_type": "stream",
     "text": [
      "Male passengers:  577\n",
      "Female passengers:  314\n",
      "\n"
     ]
    }
   ],
   "source": [
    "#Calculate the number of males and females\n",
    "males = passengers[passengers.Sex == 'male']\n",
    "females = passengers[passengers.Sex == 'female']\n",
    "\n",
    "#Prin the number of males and females who were on board\n",
    "print('Male passengers: ',males.count()['Sex'])\n",
    "print('Female passengers: ',females.count()['Sex'])\n",
    "print(\"\")"
   ]
  },
  {
   "cell_type": "code",
   "execution_count": 38,
   "metadata": {},
   "outputs": [
    {
     "data": {
      "text/plain": [
       "<seaborn.axisgrid.FacetGrid at 0x1a6049db668>"
      ]
     },
     "execution_count": 38,
     "metadata": {},
     "output_type": "execute_result"
    },
    {
     "data": {
      "image/png": "[encoded data removed]",
      "text/plain": [
       "<matplotlib.figure.Figure at 0x1a604c6f6a0>"
      ]
     },
     "metadata": {},
     "output_type": "display_data"
    }
   ],
   "source": [
    "#Representation of the data in a graph\n",
    "gSSC = sns.factorplot('Sex', data=passengers,kind='count') \n",
    "gSSC.despine(left=True) \n",
    "gSSC.set_ylabels(\"count of passengers\") \n"
   ]
  },
  {
   "cell_type": "code",
   "execution_count": 25,
   "metadata": {},
   "outputs": [
    {
     "name": "stdout",
     "output_type": "stream",
     "text": [
      "1st class passengers:  216\n",
      "2nd class passengers:  184\n",
      "3rd class passengers:  491\n"
     ]
    }
   ],
   "source": [
    "#Calculate the number of passengers in the 1st,2nd, and 3rd class\n",
    "class1 = passengers[passengers.Pclass == 1]\n",
    "class2 = passengers[passengers.Pclass == 2]\n",
    "class3 = passengers[passengers.Pclass == 3]\n",
    "\n",
    "#print the number of passengers in the 1st,2nd, and 3rd class\n",
    "print('1st class passengers: ',class1.count()['Pclass'])\n",
    "print('2nd class passengers: ',class2.count()['Pclass'])\n",
    "print('3rd class passengers: ',class3.count()['Pclass'])\n"
   ]
  },
  {
   "cell_type": "code",
   "execution_count": 26,
   "metadata": {},
   "outputs": [
    {
     "data": {
      "text/plain": [
       "<seaborn.axisgrid.FacetGrid at 0x1a604b26dd8>"
      ]
     },
     "execution_count": 26,
     "metadata": {},
     "output_type": "execute_result"
    },
    {
     "data": {
      "image/png": "[encoded data removed]",
      "text/plain": [
       "<matplotlib.figure.Figure at 0x1a604bdd470>"
      ]
     },
     "metadata": {},
     "output_type": "display_data"
    }
   ],
   "source": [
    "#Representation of the data in a graph\n",
    "gSSC = sns.factorplot('Pclass', data=passengers, kind='count') \n",
    "gSSC.despine(left=True) \n",
    "gSSC.set_ylabels(\"Number of passengers\") \n",
    "gSSC.set_xlabels(\"Classes\")\n"
   ]
  },
  {
   "cell_type": "code",
   "execution_count": 27,
   "metadata": {},
   "outputs": [
    {
     "name": "stdout",
     "output_type": "stream",
     "text": [
      "The youngest passenger: 0.42\n",
      "\n",
      "The oldest passenger: 80.0\n",
      "\n",
      "The average age: 29.69911764705882\n",
      "\n",
      "Standard deviation: 14.526497332334044\n"
     ]
    }
   ],
   "source": [
    "#Calculate the maximum and minimum fee prices paid, average of the fares paid and the standard deviation\n",
    "print('The youngest passenger:',passengers['Age'].min())\n",
    "print('')\n",
    "print('The oldest passenger:',passengers['Age'].max())\n",
    "print('')\n",
    "print('The average age:',passengers['Age'].mean())\n",
    "print('')\n",
    "print('Standard deviation:',passengers['Age'].std())"
   ]
  },
  {
   "cell_type": "code",
   "execution_count": 28,
   "metadata": {},
   "outputs": [
    {
     "data": {
      "text/plain": [
       "Text(0.5,1,'Age distribution of the passengers')"
      ]
     },
     "execution_count": 28,
     "metadata": {},
     "output_type": "execute_result"
    },
    {
     "data": {
      "image/png": "[encoded data removed]",
      "text/plain": [
       "<matplotlib.figure.Figure at 0x1a604ca4e80>"
      ]
     },
     "metadata": {},
     "output_type": "display_data"
    }
   ],
   "source": [
    "#Graphical representation of the passengers' age\n",
    "gt = passengers['Age'].plot()\n",
    "gt.set_xlabel(\"Number of people\")\n",
    "gt.set_ylabel(\"Age\")\n",
    "gt.set_title(\"Age distribution of the passengers\")"
   ]
  },
  {
   "cell_type": "code",
   "execution_count": 29,
   "metadata": {},
   "outputs": [
    {
     "name": "stdout",
     "output_type": "stream",
     "text": [
      "Total number of survivors:  342\n",
      "Total number of non-survivors:  549\n"
     ]
    }
   ],
   "source": [
    "#Calculate the total number of survivors\n",
    "surv = passengers[passengers.Survived == 1]\n",
    "died = passengers[passengers.Survived == 0]\n",
    "\n",
    "#print the total number of survivors\n",
    "print('Total number of survivors: ',surv.count()['Survived'])\n",
    "print('Total number of non-survivors: ',died.count()['Survived'])"
   ]
  },
  {
   "cell_type": "code",
   "execution_count": 30,
   "metadata": {},
   "outputs": [
    {
     "name": "stdout",
     "output_type": "stream",
     "text": [
      "Female survivors:  233\n",
      "Male survivors:  109\n"
     ]
    }
   ],
   "source": [
    "#Calculate the number of survivors based on the gender\n",
    "femalesurvivors = females[females.Survived == 1].count()['Sex']\n",
    "malesurvivors = males[males.Survived == 1].count()['Sex']\n",
    "\n",
    "#print the number of survivors based on the gender\n",
    "print('Female survivors: ',femalesurvivors)\n",
    "print('Male survivors: ',malesurvivors)"
   ]
  },
  {
   "cell_type": "code",
   "execution_count": 31,
   "metadata": {},
   "outputs": [
    {
     "name": "stdout",
     "output_type": "stream",
     "text": [
      "Female deaths:  81\n",
      "Male deaths:  468\n"
     ]
    }
   ],
   "source": [
    "#Calculate the number of deaths based on the gender\n",
    "femaledeath = females[females.Survived == 0].count()['Sex']\n",
    "malesdeath = males[males.Survived == 0].count()['Sex']\n",
    "\n",
    "#print the number of deaths based on the gender\n",
    "print('Female deaths: ',femaledeath)\n",
    "print('Male deaths: ',malesdeath)"
   ]
  },
  {
   "cell_type": "code",
   "execution_count": 32,
   "metadata": {},
   "outputs": [
    {
     "data": {
      "text/plain": [
       "<seaborn.axisgrid.FacetGrid at 0x1a605cc06a0>"
      ]
     },
     "execution_count": 32,
     "metadata": {},
     "output_type": "execute_result"
    },
    {
     "data": {
      "image/png": "[encoded data removed]",
      "text/plain": [
       "<matplotlib.figure.Figure at 0x1a604cc9dd8>"
      ]
     },
     "metadata": {},
     "output_type": "display_data"
    }
   ],
   "source": [
    "#Graphical representation of the survivors based of their gender\n",
    "gSSP = sns.factorplot('Sex', data = surv, kind='count') \n",
    "gSSP.despine(left=True) \n",
    "gSSP.set_ylabels(\"Number of passengers\") \n",
    "gSSP.set_xlabels(\"Sex\")"
   ]
  },
  {
   "cell_type": "code",
   "execution_count": 34,
   "metadata": {},
   "outputs": [
    {
     "name": "stdout",
     "output_type": "stream",
     "text": [
      "1st class survivors:  136\n",
      "2nd class survivors:  87\n",
      "3rd class survivors:  119\n"
     ]
    }
   ],
   "source": [
    "#Calculate the number of survivors per class\n",
    "class1Surv = surv[surv.Pclass ==1].count()['Pclass']\n",
    "class2Surv = surv[surv.Pclass ==2].count()['Pclass']\n",
    "class3Surv = surv[surv.Pclass ==3].count()['Pclass']\n",
    "\n",
    "#Print the number of survivors per class\n",
    "print('1st class survivors: ',class1Surv)\n",
    "print('2nd class survivors: ',class2Surv)\n",
    "print('3rd class survivors: ',class3Surv)"
   ]
  },
  {
   "cell_type": "code",
   "execution_count": 212,
   "metadata": {},
   "outputs": [
    {
     "data": {
      "text/plain": [
       "<seaborn.axisgrid.FacetGrid at 0x1b3665f6fd0>"
      ]
     },
     "execution_count": 212,
     "metadata": {},
     "output_type": "execute_result"
    },
    {
     "data": {
      "image/png": "[encoded data removed]",
      "text/plain": [
       "<matplotlib.figure.Figure at 0x1b3665f6518>"
      ]
     },
     "metadata": {},
     "output_type": "display_data"
    }
   ],
   "source": [
    "#Graphical representation of the survivors based of their classes\n",
    "gSSP = sns.factorplot('Pclass', data = surv, kind='count') \n",
    "gSSP.despine(left=True) \n",
    "gSSP.set_ylabels(\"Number of passengers\") \n",
    "gSSP.set_xlabels(\"Class\")"
   ]
  },
  {
   "cell_type": "code",
   "execution_count": 232,
   "metadata": {},
   "outputs": [],
   "source": [
    "#Calculate the number of non-survivors per class\n",
    "class1dead = died[died.Pclass ==1].count()['Pclass']\n",
    "class2dead = died[died.Pclass ==2].count()['Pclass']\n",
    "class3dead = died[died.Pclass ==3].count()['Pclass']\n",
    "\n",
    "#Print the number of non-survivors per class\n",
    "print('1st class non-survivors: ',class1dead)\n",
    "print('2nd class non-survivors: ',class2dead)\n",
    "print('3rd class non-survivors: ',class3dead)\n",
    "print('')"
   ]
  },
  {
   "cell_type": "code",
   "execution_count": 232,
   "metadata": {},
   "outputs": [
    {
     "name": "stdout",
     "output_type": "stream",
     "text": [
      "1st class non-survivors:  80\n",
      "2nd class non-survivors:  97\n",
      "3rd class non-survivors:  372\n",
      "\n"
     ]
    },
    {
     "data": {
      "text/plain": [
       "<seaborn.axisgrid.FacetGrid at 0x1b363bdb128>"
      ]
     },
     "execution_count": 232,
     "metadata": {},
     "output_type": "execute_result"
    },
    {
     "data": {
      "image/png": "[encoded data removed]",
      "text/plain": [
       "<matplotlib.figure.Figure at 0x1b361ac5320>"
      ]
     },
     "metadata": {},
     "output_type": "display_data"
    }
   ],
   "source": [
    "#Graphical representation of the survivors based of their classes\n",
    "gSSP = sns.factorplot('Pclass', data = died, kind='count') \n",
    "gSSP.despine(left=True) \n",
    "gSSP.set_ylabels(\"Number of passengers\") \n",
    "gSSP.set_xlabels(\"Class\")"
   ]
  },
  {
   "cell_type": "code",
   "execution_count": 226,
   "metadata": {},
   "outputs": [
    {
     "name": "stdout",
     "output_type": "stream",
     "text": [
      "Adult survivors:  229\n",
      "Child survivors:  61\n"
     ]
    }
   ],
   "source": [
    "#Calculate the number of survivors based on their age\n",
    "# Assuming that an adult is 18+ and everyone younger than that is considered a child\n",
    "\n",
    "#Adult survivors\n",
    "AdultSurvivors = surv[surv.Age >= 18].count()['Age']\n",
    "print('Adult survivors: ',AdultSurvivors)\n",
    "\n",
    "#Children survivors\n",
    "ChildSurvivors = surv[surv.Age < 18].count()['Age']\n",
    "print('Child survivors: ',ChildSurvivors)"
   ]
  },
  {
   "cell_type": "code",
   "execution_count": 227,
   "metadata": {},
   "outputs": [
    {
     "name": "stdout",
     "output_type": "stream",
     "text": [
      "Adult non-survivors:  372\n",
      "Child non-survivors:  52\n"
     ]
    }
   ],
   "source": [
    "#Calculate the number of non-survivors based on their age\n",
    "# Assuming that an adult is 18+ and everyone younger than that is considered a child\n",
    "\n",
    "#Adult survivors\n",
    "Adultdead = died[died.Age >= 18].count()['Age']\n",
    "print('Adult non-survivors: ',Adultdead)\n",
    "\n",
    "#Children survivors\n",
    "Childrendead = died[died.Age < 18].count()['Age']\n",
    "print('Child non-survivors: ',Childrendead)"
   ]
  },
  {
   "cell_type": "code",
   "execution_count": 244,
   "metadata": {},
   "outputs": [
    {
     "name": "stdout",
     "output_type": "stream",
     "text": [
      "Percentage of child survivors:  53.98 %\n",
      "Percentage of adult survivors:  38.1 %\n"
     ]
    }
   ],
   "source": [
    "#Percentage of children and adult survivors\n",
    "childPercentage = (ChildSurvivors/(passengers[passengers.Age < 18].count()['Age']))*100\n",
    "adultPercentage = (AdultSurvivors/(passengers[passengers.Age >= 18].count()['Age']))*100\n",
    "\n",
    "#Print the percentage of male and female survivors\n",
    "print('Percentage of child survivors: ',round(childPercentage,2),'%')\n",
    "print('Percentage of adult survivors: ',round(adultPercentage,2),'%')"
   ]
  },
  {
   "cell_type": "code",
   "execution_count": 252,
   "metadata": {},
   "outputs": [
    {
     "name": "stdout",
     "output_type": "stream",
     "text": [
      "Percentage of male survivors:  18.89 %\n",
      "Percentage of female survivors:  74.2 %\n"
     ]
    }
   ],
   "source": [
    "#Percentage of male and female survivors\n",
    "malePercentage = (malesurvivors/(passengers[passengers.Sex =='male'].count()['Sex']))*100\n",
    "femalePercentage = (femalesurvivors/(passengers[passengers.Sex =='female'].count()['Sex']))*100\n",
    "\n",
    "#Print the percentage of male and female survivors\n",
    "print('Percentage of male survivors: ',round(malePercentage,2),'%')\n",
    "print('Percentage of female survivors: ',round(femalePercentage,2),'%')"
   ]
  },
  {
   "cell_type": "code",
   "execution_count": 35,
   "metadata": {},
   "outputs": [],
   "source": [
    "#Percentage of the survivors from each class\n",
    "class1Percent = (class1Surv/(passengers[passengers.Pclass ==1].count()['Pclass'])*100)\n",
    "class2Percent = (class2Surv/(passengers[passengers.Pclass ==2].count()['Pclass'])*100)\n",
    "class3Percent = (class3Surv/(passengers[passengers.Pclass ==3].count()['Pclass'])*100)\n"
   ]
  },
  {
   "cell_type": "code",
   "execution_count": 251,
   "metadata": {},
   "outputs": [
    {
     "name": "stdout",
     "output_type": "stream",
     "text": [
      "Percentage of survivors in the 1st class:  62.96 %\n",
      "Percentage of survivors in the 2nd class:  47.28 %\n",
      "Percentage of survivors in the 3rd class:  24.24 %\n",
      "\n"
     ]
    }
   ],
   "source": [
    "#Print the percentage of the survivors from each class\n",
    "print('Percentage of survivors in the 1st class: ',round(class1Percent,2),'%')\n",
    "print('Percentage of survivors in the 2nd class: ',round(class2Percent,2),'%')\n",
    "print('Percentage of survivors in the 3rd class: ',round(class3Percent,2),'%')\n",
    "print('')"
   ]
  },
  {
   "cell_type": "code",
   "execution_count": null,
   "metadata": {},
   "outputs": [],
   "source": []
  }
 ],
 "metadata": {
  "kernelspec": {
   "display_name": "Python 3",
   "language": "python",
   "name": "python3"
  },
  "language_info": {
   "codemirror_mode": {
    "name": "ipython",
    "version": 3
   },
   "file_extension": ".py",
   "mimetype": "text/x-python",
   "name": "python",
   "nbconvert_exporter": "python",
   "pygments_lexer": "ipython3",
   "version": "3.6.3"
  }
 },
 "nbformat": 4,
 "nbformat_minor": 2
}
